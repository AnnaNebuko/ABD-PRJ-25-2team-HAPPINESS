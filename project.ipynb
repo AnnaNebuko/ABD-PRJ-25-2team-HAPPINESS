{
 "cells": [
  {
   "cell_type": "markdown",
   "metadata": {
    "id": "MDbLtL6AY0UF"
   },
   "source": [
    "# Анализ социально-экономических факторов на уровень счастья и удовлетворенности жизнью в странах Европы"
   ]
  },
  {
   "cell_type": "markdown",
   "metadata": {
    "id": "aXGM1WilZGxT"
   },
   "source": [
    "## **1. Сбор данных**"
   ]
  },
  {
   "cell_type": "markdown",
   "metadata": {
    "id": "TEoSgY0NZr4G"
   },
   "source": [
    "Описание признаков: [ссылка](https://docs.google.com/document/d/16r0fiIdUSfEgPYzUKSXar4MYbYAaMIZl/edit)"
   ]
  },
  {
   "cell_type": "markdown",
   "metadata": {
    "id": "DsHJsNxmaHKR"
   },
   "source": [
    "Датасет в формате csv: [ссылка](https://drive.google.com/file/d/1ZFxt4HygAkduFb7HVVI3ZcIyf51oIXCA/view?usp=share_link)"
   ]
  },
  {
   "cell_type": "code",
   "execution_count": 1,
   "metadata": {
    "executionInfo": {
     "elapsed": 2695,
     "status": "ok",
     "timestamp": 1738914287606,
     "user": {
      "displayName": "Полина Трубкина",
      "userId": "04975523817336870465"
     },
     "user_tz": -180
    },
    "id": "jfq85ZWKvawA"
   },
   "outputs": [],
   "source": [
    "import pandas as pd\n",
    "import numpy as np"
   ]
  },
  {
   "cell_type": "code",
   "execution_count": 31,
   "metadata": {},
   "outputs": [],
   "source": [
    "df = pd.read_csv('final_dataset.csv')"
   ]
  },
  {
   "cell_type": "code",
   "execution_count": 46,
   "metadata": {},
   "outputs": [
    {
     "name": "stdout",
     "output_type": "stream",
     "text": [
      "Признаки для обработки ['iphlppla', 'ipsucesa', 'enjlf', 'fltdpr', 'fltlnl', 'slprl', 'dosprt', 'cgtsmok', 'alcfreq', 'height', 'weighta']\n"
     ]
    }
   ],
   "source": [
    "features = df.columns.to_list()[23:34]\n",
    "print(f\"Признаки для обработки {features}\")"
   ]
  },
  {
   "cell_type": "code",
   "execution_count": 33,
   "metadata": {},
   "outputs": [],
   "source": [
    "df_feat = df[features]"
   ]
  },
  {
   "cell_type": "code",
   "execution_count": 34,
   "metadata": {},
   "outputs": [
    {
     "name": "stdout",
     "output_type": "stream",
     "text": [
      "<class 'pandas.core.frame.DataFrame'>\n",
      "RangeIndex: 40156 entries, 0 to 40155\n",
      "Data columns (total 11 columns):\n",
      " #   Column    Non-Null Count  Dtype\n",
      "---  ------    --------------  -----\n",
      " 0   iphlppla  40156 non-null  int64\n",
      " 1   ipsucesa  40156 non-null  int64\n",
      " 2   enjlf     40156 non-null  int64\n",
      " 3   fltdpr    40156 non-null  int64\n",
      " 4   fltlnl    40156 non-null  int64\n",
      " 5   slprl     40156 non-null  int64\n",
      " 6   dosprt    40156 non-null  int64\n",
      " 7   cgtsmok   40156 non-null  int64\n",
      " 8   alcfreq   40156 non-null  int64\n",
      " 9   height    40156 non-null  int64\n",
      " 10  weighta   40156 non-null  int64\n",
      "dtypes: int64(11)\n",
      "memory usage: 3.4 MB\n"
     ]
    }
   ],
   "source": [
    "df_feat.info()"
   ]
  },
  {
   "cell_type": "code",
   "execution_count": 35,
   "metadata": {},
   "outputs": [
    {
     "data": {
      "text/html": [
       "<div>\n",
       "<style scoped>\n",
       "    .dataframe tbody tr th:only-of-type {\n",
       "        vertical-align: middle;\n",
       "    }\n",
       "\n",
       "    .dataframe tbody tr th {\n",
       "        vertical-align: top;\n",
       "    }\n",
       "\n",
       "    .dataframe thead th {\n",
       "        text-align: right;\n",
       "    }\n",
       "</style>\n",
       "<table border=\"1\" class=\"dataframe\">\n",
       "  <thead>\n",
       "    <tr style=\"text-align: right;\">\n",
       "      <th></th>\n",
       "      <th>iphlppla</th>\n",
       "      <th>ipsucesa</th>\n",
       "      <th>enjlf</th>\n",
       "      <th>fltdpr</th>\n",
       "      <th>fltlnl</th>\n",
       "      <th>slprl</th>\n",
       "      <th>dosprt</th>\n",
       "      <th>cgtsmok</th>\n",
       "      <th>alcfreq</th>\n",
       "      <th>height</th>\n",
       "      <th>weighta</th>\n",
       "    </tr>\n",
       "  </thead>\n",
       "  <tbody>\n",
       "    <tr>\n",
       "      <th>count</th>\n",
       "      <td>40156.000000</td>\n",
       "      <td>40156.000000</td>\n",
       "      <td>40156.000000</td>\n",
       "      <td>40156.000000</td>\n",
       "      <td>40156.000000</td>\n",
       "      <td>40156.000000</td>\n",
       "      <td>40156.000000</td>\n",
       "      <td>40156.000000</td>\n",
       "      <td>40156.000000</td>\n",
       "      <td>40156.000000</td>\n",
       "      <td>40156.000000</td>\n",
       "    </tr>\n",
       "    <tr>\n",
       "      <th>mean</th>\n",
       "      <td>3.388609</td>\n",
       "      <td>4.727164</td>\n",
       "      <td>2.928080</td>\n",
       "      <td>1.452162</td>\n",
       "      <td>1.443819</td>\n",
       "      <td>1.790119</td>\n",
       "      <td>4.123319</td>\n",
       "      <td>4.464513</td>\n",
       "      <td>4.927458</td>\n",
       "      <td>190.515440</td>\n",
       "      <td>115.954154</td>\n",
       "    </tr>\n",
       "    <tr>\n",
       "      <th>std</th>\n",
       "      <td>10.189049</td>\n",
       "      <td>11.107167</td>\n",
       "      <td>0.923338</td>\n",
       "      <td>0.763980</td>\n",
       "      <td>0.804517</td>\n",
       "      <td>0.895194</td>\n",
       "      <td>8.913957</td>\n",
       "      <td>1.787270</td>\n",
       "      <td>5.546143</td>\n",
       "      <td>121.063062</td>\n",
       "      <td>178.606161</td>\n",
       "    </tr>\n",
       "    <tr>\n",
       "      <th>min</th>\n",
       "      <td>1.000000</td>\n",
       "      <td>1.000000</td>\n",
       "      <td>1.000000</td>\n",
       "      <td>1.000000</td>\n",
       "      <td>1.000000</td>\n",
       "      <td>1.000000</td>\n",
       "      <td>0.000000</td>\n",
       "      <td>1.000000</td>\n",
       "      <td>1.000000</td>\n",
       "      <td>106.000000</td>\n",
       "      <td>30.000000</td>\n",
       "    </tr>\n",
       "    <tr>\n",
       "      <th>25%</th>\n",
       "      <td>1.000000</td>\n",
       "      <td>2.000000</td>\n",
       "      <td>2.000000</td>\n",
       "      <td>1.000000</td>\n",
       "      <td>1.000000</td>\n",
       "      <td>1.000000</td>\n",
       "      <td>1.000000</td>\n",
       "      <td>4.000000</td>\n",
       "      <td>3.000000</td>\n",
       "      <td>165.000000</td>\n",
       "      <td>65.000000</td>\n",
       "    </tr>\n",
       "    <tr>\n",
       "      <th>50%</th>\n",
       "      <td>2.000000</td>\n",
       "      <td>3.000000</td>\n",
       "      <td>3.000000</td>\n",
       "      <td>1.000000</td>\n",
       "      <td>1.000000</td>\n",
       "      <td>2.000000</td>\n",
       "      <td>3.000000</td>\n",
       "      <td>5.000000</td>\n",
       "      <td>5.000000</td>\n",
       "      <td>170.000000</td>\n",
       "      <td>75.000000</td>\n",
       "    </tr>\n",
       "    <tr>\n",
       "      <th>75%</th>\n",
       "      <td>3.000000</td>\n",
       "      <td>4.000000</td>\n",
       "      <td>4.000000</td>\n",
       "      <td>2.000000</td>\n",
       "      <td>2.000000</td>\n",
       "      <td>2.000000</td>\n",
       "      <td>6.000000</td>\n",
       "      <td>6.000000</td>\n",
       "      <td>7.000000</td>\n",
       "      <td>178.000000</td>\n",
       "      <td>87.000000</td>\n",
       "    </tr>\n",
       "    <tr>\n",
       "      <th>max</th>\n",
       "      <td>99.000000</td>\n",
       "      <td>99.000000</td>\n",
       "      <td>9.000000</td>\n",
       "      <td>9.000000</td>\n",
       "      <td>9.000000</td>\n",
       "      <td>9.000000</td>\n",
       "      <td>99.000000</td>\n",
       "      <td>9.000000</td>\n",
       "      <td>99.000000</td>\n",
       "      <td>999.000000</td>\n",
       "      <td>999.000000</td>\n",
       "    </tr>\n",
       "  </tbody>\n",
       "</table>\n",
       "</div>"
      ],
      "text/plain": [
       "           iphlppla      ipsucesa         enjlf        fltdpr        fltlnl  \\\n",
       "count  40156.000000  40156.000000  40156.000000  40156.000000  40156.000000   \n",
       "mean       3.388609      4.727164      2.928080      1.452162      1.443819   \n",
       "std       10.189049     11.107167      0.923338      0.763980      0.804517   \n",
       "min        1.000000      1.000000      1.000000      1.000000      1.000000   \n",
       "25%        1.000000      2.000000      2.000000      1.000000      1.000000   \n",
       "50%        2.000000      3.000000      3.000000      1.000000      1.000000   \n",
       "75%        3.000000      4.000000      4.000000      2.000000      2.000000   \n",
       "max       99.000000     99.000000      9.000000      9.000000      9.000000   \n",
       "\n",
       "              slprl        dosprt       cgtsmok       alcfreq        height  \\\n",
       "count  40156.000000  40156.000000  40156.000000  40156.000000  40156.000000   \n",
       "mean       1.790119      4.123319      4.464513      4.927458    190.515440   \n",
       "std        0.895194      8.913957      1.787270      5.546143    121.063062   \n",
       "min        1.000000      0.000000      1.000000      1.000000    106.000000   \n",
       "25%        1.000000      1.000000      4.000000      3.000000    165.000000   \n",
       "50%        2.000000      3.000000      5.000000      5.000000    170.000000   \n",
       "75%        2.000000      6.000000      6.000000      7.000000    178.000000   \n",
       "max        9.000000     99.000000      9.000000     99.000000    999.000000   \n",
       "\n",
       "            weighta  \n",
       "count  40156.000000  \n",
       "mean     115.954154  \n",
       "std      178.606161  \n",
       "min       30.000000  \n",
       "25%       65.000000  \n",
       "50%       75.000000  \n",
       "75%       87.000000  \n",
       "max      999.000000  "
      ]
     },
     "execution_count": 35,
     "metadata": {},
     "output_type": "execute_result"
    }
   ],
   "source": [
    "df_feat.describe()"
   ]
  },
  {
   "cell_type": "markdown",
   "metadata": {},
   "source": [
    "# Предобработка данных"
   ]
  },
  {
   "cell_type": "markdown",
   "metadata": {},
   "source": [
    "Из представленных к предобработке данных 10 признаков из них 7 порядковые категориальные и 3 числовых дискретных: 'dosprt', 'height', 'weighta' (данные о количестве дней занятий спортом в неделю, рост и вес соответственно). \n",
    "\n",
    "В данных присутсвуют такие значения как, 7 - Refusal, 8 - Don't know, 9 - No answer, 66 - Not applicable, 77 - Refusal, 88 - Don't know, 99 - No answer* . Их заменим пустыми значениями. Числовые и категориальные признаки обработаем отдельно."
   ]
  },
  {
   "cell_type": "code",
   "execution_count": null,
   "metadata": {},
   "outputs": [],
   "source": [
    "ls_need_to_change = [7, 8, 9, 66, 77, 88, 99]\n",
    "columns_to_change = ['iphlppla', 'ipsucesa',  'enjlf', 'fltdpr', 'fltlnl', 'slprl', 'cgtsmok']\n",
    "\n",
    "for col in columns_to_change:\n",
    "     df_feat.loc[:, col] = df_feat[col].apply(lambda x:np.nan if x in ls_need_to_change else x)"
   ]
  },
  {
   "cell_type": "code",
   "execution_count": 58,
   "metadata": {},
   "outputs": [],
   "source": [
    "df_feat.loc[:,'dosprt'] = df_feat['dosprt'].apply(lambda x:np.nan if x in [77, 88,99] else x)\n",
    "\n",
    "df_feat.loc[:,'height'] = df_feat['height'].apply(lambda x:np.nan if x in [777, 888,999] else x)\n",
    "\n",
    "df_feat.loc[:,'weighta'] = df_feat['weighta'].apply(lambda x:np.nan if x in [777, 888,999] else x)\n",
    "\n",
    "df_feat.loc[:,'alcfreq'] = df_feat['alcfreq'].apply(lambda x:np.nan if x in [77, 88,99] else x)"
   ]
  },
  {
   "cell_type": "code",
   "execution_count": null,
   "metadata": {},
   "outputs": [
    {
     "data": {
      "text/plain": [
       "np.int64(438)"
      ]
     },
     "execution_count": 69,
     "metadata": {},
     "output_type": "execute_result"
    }
   ],
   "source": [
    "np.round(df_feat['dosprt'].isna().sum()/df_feat.shape[0]*100,2)"
   ]
  },
  {
   "cell_type": "code",
   "execution_count": 75,
   "metadata": {},
   "outputs": [
    {
     "name": "stdout",
     "output_type": "stream",
     "text": [
      "Количество пропущенных значений в столбцe 'iphlppla' : 1.6%\n",
      "Количество пропущенных значений в столбцe 'ipsucesa' : 1.92%\n",
      "Количество пропущенных значений в столбцe 'enjlf' : 0.69%\n",
      "Количество пропущенных значений в столбцe 'fltdpr' : 0.44%\n",
      "Количество пропущенных значений в столбцe 'fltlnl' : 0.43%\n",
      "Количество пропущенных значений в столбцe 'slprl' : 0.35%\n",
      "Количество пропущенных значений в столбцe 'dosprt' : 1.09%\n",
      "Количество пропущенных значений в столбцe 'cgtsmok' : 0.2%\n",
      "Количество пропущенных значений в столбцe 'alcfreq' : 28.19%\n",
      "Количество пропущенных значений в столбцe 'height' : 2.61%\n",
      "Количество пропущенных значений в столбцe 'weighta' : 4.93%\n"
     ]
    }
   ],
   "source": [
    "for col in df_feat.columns:\n",
    "    print(f\"Количество пропущенных значений в столбцe '{col}' : {np.round(df_feat[col].isna().sum()/df_feat.shape[0]*100,2)}%\")"
   ]
  },
  {
   "cell_type": "code",
   "execution_count": null,
   "metadata": {},
   "outputs": [],
   "source": []
  },
  {
   "cell_type": "code",
   "execution_count": null,
   "metadata": {},
   "outputs": [],
   "source": [
    "ls_need_to_change = [7, 8, 9, 66, 77, 88, 99]\n",
    "columns_to_change = ['iphlppla', 'ipsucesa',  'enjlf', 'fltdpr', 'fltlnl', 'slprl', 'cgtsmok']\n",
    "\n",
    "for col in columns_to_change:\n",
    "     df_feat.loc[:, col] = df_feat[col].apply(lambda x:np.nan if x in ls_need_to_change else x)"
   ]
  }
 ],
 "metadata": {
  "colab": {
   "provenance": []
  },
  "kernelspec": {
   "display_name": "Python 3",
   "name": "python3"
  },
  "language_info": {
   "codemirror_mode": {
    "name": "ipython",
    "version": 3
   },
   "file_extension": ".py",
   "mimetype": "text/x-python",
   "name": "python",
   "nbconvert_exporter": "python",
   "pygments_lexer": "ipython3",
   "version": "3.12.5"
  }
 },
 "nbformat": 4,
 "nbformat_minor": 0
}
