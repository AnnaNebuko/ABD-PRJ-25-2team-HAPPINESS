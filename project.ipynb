{
 "cells": [
  {
   "cell_type": "markdown",
   "metadata": {
    "id": "MDbLtL6AY0UF"
   },
   "source": [
    "# Анализ социально-экономических факторов на уровень счастья и удовлетворенности жизнью в странах Европы"
   ]
  },
  {
   "cell_type": "markdown",
   "metadata": {
    "id": "aXGM1WilZGxT"
   },
   "source": [
    "## **1. Сбор данных**"
   ]
  },
  {
   "cell_type": "markdown",
   "metadata": {
    "id": "TEoSgY0NZr4G"
   },
   "source": [
    "Описание признаков: [ссылка](https://docs.google.com/document/d/16r0fiIdUSfEgPYzUKSXar4MYbYAaMIZl/edit)"
   ]
  },
  {
   "cell_type": "markdown",
   "metadata": {
    "id": "DsHJsNxmaHKR"
   },
   "source": [
    "Датасет в формате csv: [ссылка](https://drive.google.com/file/d/1ZFxt4HygAkduFb7HVVI3ZcIyf51oIXCA/view?usp=share_link)"
   ]
  },
  {
   "cell_type": "code",
   "execution_count": 1,
   "metadata": {
    "executionInfo": {
     "elapsed": 2695,
     "status": "ok",
     "timestamp": 1738914287606,
     "user": {
      "displayName": "Полина Трубкина",
      "userId": "04975523817336870465"
     },
     "user_tz": -180
    },
    "id": "jfq85ZWKvawA"
   },
   "outputs": [],
   "source": [
    "import pandas as pd\n",
    "import numpy as np"
   ]
  },
  {
   "cell_type": "code",
   "execution_count": 2,
   "metadata": {
    "colab": {
     "base_uri": "https://localhost:8080/"
    },
    "executionInfo": {
     "elapsed": 22502,
     "status": "ok",
     "timestamp": 1738914310106,
     "user": {
      "displayName": "Полина Трубкина",
      "userId": "04975523817336870465"
     },
     "user_tz": -180
    },
    "id": "IrsCxVEfgLpM",
    "outputId": "264d1eb9-ca78-40b3-c363-d954f499f6e7"
   },
   "outputs": [],
   "source": [
    "df = pd.read_csv('final_dataset.csv')"
   ]
  },
  {
   "cell_type": "code",
   "execution_count": 8,
   "metadata": {},
   "outputs": [
    {
     "name": "stdout",
     "output_type": "stream",
     "text": [
      "<class 'pandas.core.frame.DataFrame'>\n",
      "RangeIndex: 40156 entries, 0 to 40155\n",
      "Data columns (total 10 columns):\n",
      " #   Column   Non-Null Count  Dtype  \n",
      "---  ------   --------------  -----  \n",
      " 0   idno     40156 non-null  int64  \n",
      " 1   agea     39886 non-null  float64\n",
      " 2   rlgdgr   39895 non-null  float64\n",
      " 3   polintr  40100 non-null  float64\n",
      " 4   sclmeet  40081 non-null  float64\n",
      " 5   happy    40024 non-null  float64\n",
      " 6   cntry    40156 non-null  object \n",
      " 7   netustm  31398 non-null  float64\n",
      " 8   nwspol   39679 non-null  float64\n",
      " 9   pplfair  39947 non-null  float64\n",
      "dtypes: float64(8), int64(1), object(1)\n",
      "memory usage: 3.1+ MB\n",
      "None\n"
     ]
    }
   ],
   "source": [
    "# Получение информации о признаках для обработки \n",
    "df_ = df.iloc[:, 1:11]  \n",
    "print(df_.info())"
   ]
  },
  {
   "cell_type": "markdown",
   "metadata": {},
   "source": []
  },
  {
   "cell_type": "code",
   "execution_count": 9,
   "metadata": {
    "colab": {
     "base_uri": "https://localhost:8080/"
    },
    "executionInfo": {
     "elapsed": 175,
     "status": "ok",
     "timestamp": 1738914487619,
     "user": {
      "displayName": "Полина Трубкина",
      "userId": "04975523817336870465"
     },
     "user_tz": -180
    },
    "id": "X2UvVuHrYRdu",
    "outputId": "4862b7f0-28aa-42c9-a505-19496eef7784"
   },
   "outputs": [],
   "source": [
    "# В признаках присутствуют значения Refusal, Don't know, No answer, Not applicable, заменим их на NaN\n",
    "# Создадим словарь в котором определим, какие значения в каждом из признаков нужно заменить \n",
    "values_to_replace = {\n",
    "    'idno': [None], \n",
    "    'agea': [999],\n",
    "    'rlgdgr': [77, 88, 99],\n",
    "    'polintr': [7, 8, 9],\n",
    "    'sclmeet': [77, 88, 99],\n",
    "    'happy': [77, 88, 99],\n",
    "    'cntry': [None],\n",
    "    'netustm': [6666, 7777, 8888, 9999],\n",
    "    'nwspol': [7777, 8888, 9999],\n",
    "    'pplfair': [77, 88, 99],\n",
    "    }\n"
   ]
  },
  {
   "cell_type": "code",
   "execution_count": 10,
   "metadata": {
    "colab": {
     "base_uri": "https://localhost:8080/",
     "height": 238
    },
    "executionInfo": {
     "elapsed": 450,
     "status": "ok",
     "timestamp": 1738914378491,
     "user": {
      "displayName": "Полина Трубкина",
      "userId": "04975523817336870465"
     },
     "user_tz": -180
    },
    "id": "VwM0qbd2IwqE",
    "outputId": "a0ab785c-fdf7-4d14-e03f-4051e6463521"
   },
   "outputs": [],
   "source": [
    "#Заменим указанные значения на NaN \n",
    "for features, values in values_to_replace.items():\n",
    "        df[features] = df[features].replace(values, np.nan)\n"
   ]
  },
  {
   "cell_type": "code",
   "execution_count": 11,
   "metadata": {
    "colab": {
     "base_uri": "https://localhost:8080/"
    },
    "executionInfo": {
     "elapsed": 218,
     "status": "ok",
     "timestamp": 1738914446388,
     "user": {
      "displayName": "Полина Трубкина",
      "userId": "04975523817336870465"
     },
     "user_tz": -180
    },
    "id": "qsy0o1TTI6aq",
    "outputId": "0dcbfc14-69f6-4bc5-de70-a715ea875cb2"
   },
   "outputs": [
    {
     "name": "stdout",
     "output_type": "stream",
     "text": [
      "Количество пропущенных значений в обработанных признаках:\n",
      "idno: 0\n",
      "agea: 270\n",
      "rlgdgr: 261\n",
      "polintr: 56\n",
      "sclmeet: 75\n",
      "happy: 132\n",
      "cntry: 0\n",
      "netustm: 8758\n",
      "nwspol: 477\n",
      "pplfair: 209\n"
     ]
    }
   ],
   "source": [
    "# Подсчитаем количество пропущенных значений NaN \n",
    "missing_counts = {features: df[features].isnull().sum() for features in values_to_replace.keys() if features in df.columns}\n",
    "print(\"Количество пропущенных значений в обработанных признаках:\")\n",
    "for features, count in missing_counts.items():\n",
    "    print(f\"{features}: {count}\")\n"
   ]
  },
  {
   "cell_type": "code",
   "execution_count": null,
   "metadata": {},
   "outputs": [],
   "source": []
  }
 ],
 "metadata": {
  "colab": {
   "provenance": []
  },
  "kernelspec": {
   "display_name": "Python 3 (ipykernel)",
   "language": "python",
   "name": "python3"
  },
  "language_info": {
   "codemirror_mode": {
    "name": "ipython",
    "version": 3
   },
   "file_extension": ".py",
   "mimetype": "text/x-python",
   "name": "python",
   "nbconvert_exporter": "python",
   "pygments_lexer": "ipython3",
   "version": "3.12.1"
  }
 },
 "nbformat": 4,
 "nbformat_minor": 0
}
