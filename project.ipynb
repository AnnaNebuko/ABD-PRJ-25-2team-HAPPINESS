{
 "cells": [
  {
   "cell_type": "markdown",
   "metadata": {
    "id": "MDbLtL6AY0UF"
   },
   "source": [
    "# Анализ социально-экономических факторов на уровень счастья и удовлетворенности жизнью в странах Европы"
   ]
  },
  {
   "cell_type": "markdown",
   "metadata": {
    "id": "aXGM1WilZGxT"
   },
   "source": [
    "## **1. Сбор данных**"
   ]
  },
  {
   "cell_type": "markdown",
   "metadata": {
    "id": "TEoSgY0NZr4G"
   },
   "source": [
    "Описание признаков: [ссылка](https://docs.google.com/document/d/16r0fiIdUSfEgPYzUKSXar4MYbYAaMIZl/edit)"
   ]
  },
  {
   "cell_type": "markdown",
   "metadata": {
    "id": "DsHJsNxmaHKR"
   },
   "source": [
    "Датасет в формате csv: [ссылка](https://drive.google.com/file/d/1ZFxt4HygAkduFb7HVVI3ZcIyf51oIXCA/view?usp=share_link)"
   ]
  },
  {
   "cell_type": "code",
   "execution_count": 18,
   "metadata": {
    "executionInfo": {
     "elapsed": 2695,
     "status": "ok",
     "timestamp": 1738914287606,
     "user": {
      "displayName": "Полина Трубкина",
      "userId": "04975523817336870465"
     },
     "user_tz": -180
    },
    "id": "jfq85ZWKvawA"
   },
   "outputs": [],
   "source": [
    "import pandas as pd\n",
    "import numpy as np"
   ]
  },
  {
   "cell_type": "code",
   "execution_count": 19,
   "metadata": {},
   "outputs": [
    {
     "data": {
      "text/html": [
       "<div>\n",
       "<style scoped>\n",
       "    .dataframe tbody tr th:only-of-type {\n",
       "        vertical-align: middle;\n",
       "    }\n",
       "\n",
       "    .dataframe tbody tr th {\n",
       "        vertical-align: top;\n",
       "    }\n",
       "\n",
       "    .dataframe thead th {\n",
       "        text-align: right;\n",
       "    }\n",
       "</style>\n",
       "<table border=\"1\" class=\"dataframe\">\n",
       "  <thead>\n",
       "    <tr style=\"text-align: right;\">\n",
       "      <th></th>\n",
       "      <th>Unnamed: 0</th>\n",
       "      <th>idno</th>\n",
       "      <th>agea</th>\n",
       "      <th>rlgdgr</th>\n",
       "      <th>polintr</th>\n",
       "      <th>sclmeet</th>\n",
       "      <th>happy</th>\n",
       "      <th>cntry</th>\n",
       "      <th>netustm</th>\n",
       "      <th>nwspol</th>\n",
       "      <th>...</th>\n",
       "      <th>actrolga</th>\n",
       "      <th>cptppola</th>\n",
       "      <th>trstprl</th>\n",
       "      <th>trstlgl</th>\n",
       "      <th>trstplc</th>\n",
       "      <th>trstplt</th>\n",
       "      <th>vote</th>\n",
       "      <th>stfeco</th>\n",
       "      <th>stfdem</th>\n",
       "      <th>stfedu</th>\n",
       "    </tr>\n",
       "  </thead>\n",
       "  <tbody>\n",
       "    <tr>\n",
       "      <th>0</th>\n",
       "      <td>0</td>\n",
       "      <td>50014</td>\n",
       "      <td>65</td>\n",
       "      <td>5</td>\n",
       "      <td>1</td>\n",
       "      <td>4</td>\n",
       "      <td>8</td>\n",
       "      <td>AT</td>\n",
       "      <td>180</td>\n",
       "      <td>90</td>\n",
       "      <td>...</td>\n",
       "      <td>5</td>\n",
       "      <td>5</td>\n",
       "      <td>6</td>\n",
       "      <td>9</td>\n",
       "      <td>10</td>\n",
       "      <td>5</td>\n",
       "      <td>1</td>\n",
       "      <td>6</td>\n",
       "      <td>6</td>\n",
       "      <td>8</td>\n",
       "    </tr>\n",
       "    <tr>\n",
       "      <th>1</th>\n",
       "      <td>1</td>\n",
       "      <td>50030</td>\n",
       "      <td>21</td>\n",
       "      <td>0</td>\n",
       "      <td>2</td>\n",
       "      <td>7</td>\n",
       "      <td>9</td>\n",
       "      <td>AT</td>\n",
       "      <td>570</td>\n",
       "      <td>90</td>\n",
       "      <td>...</td>\n",
       "      <td>2</td>\n",
       "      <td>2</td>\n",
       "      <td>6</td>\n",
       "      <td>6</td>\n",
       "      <td>4</td>\n",
       "      <td>1</td>\n",
       "      <td>1</td>\n",
       "      <td>2</td>\n",
       "      <td>7</td>\n",
       "      <td>10</td>\n",
       "    </tr>\n",
       "    <tr>\n",
       "      <th>2</th>\n",
       "      <td>2</td>\n",
       "      <td>50057</td>\n",
       "      <td>53</td>\n",
       "      <td>8</td>\n",
       "      <td>2</td>\n",
       "      <td>4</td>\n",
       "      <td>9</td>\n",
       "      <td>AT</td>\n",
       "      <td>30</td>\n",
       "      <td>30</td>\n",
       "      <td>...</td>\n",
       "      <td>4</td>\n",
       "      <td>3</td>\n",
       "      <td>7</td>\n",
       "      <td>5</td>\n",
       "      <td>8</td>\n",
       "      <td>4</td>\n",
       "      <td>1</td>\n",
       "      <td>6</td>\n",
       "      <td>6</td>\n",
       "      <td>5</td>\n",
       "    </tr>\n",
       "    <tr>\n",
       "      <th>3</th>\n",
       "      <td>3</td>\n",
       "      <td>50106</td>\n",
       "      <td>78</td>\n",
       "      <td>6</td>\n",
       "      <td>3</td>\n",
       "      <td>6</td>\n",
       "      <td>7</td>\n",
       "      <td>AT</td>\n",
       "      <td>6666</td>\n",
       "      <td>15</td>\n",
       "      <td>...</td>\n",
       "      <td>2</td>\n",
       "      <td>3</td>\n",
       "      <td>5</td>\n",
       "      <td>6</td>\n",
       "      <td>9</td>\n",
       "      <td>3</td>\n",
       "      <td>2</td>\n",
       "      <td>4</td>\n",
       "      <td>6</td>\n",
       "      <td>5</td>\n",
       "    </tr>\n",
       "    <tr>\n",
       "      <th>4</th>\n",
       "      <td>4</td>\n",
       "      <td>50145</td>\n",
       "      <td>64</td>\n",
       "      <td>1</td>\n",
       "      <td>2</td>\n",
       "      <td>5</td>\n",
       "      <td>9</td>\n",
       "      <td>AT</td>\n",
       "      <td>120</td>\n",
       "      <td>60</td>\n",
       "      <td>...</td>\n",
       "      <td>1</td>\n",
       "      <td>3</td>\n",
       "      <td>6</td>\n",
       "      <td>8</td>\n",
       "      <td>8</td>\n",
       "      <td>5</td>\n",
       "      <td>1</td>\n",
       "      <td>6</td>\n",
       "      <td>8</td>\n",
       "      <td>9</td>\n",
       "    </tr>\n",
       "  </tbody>\n",
       "</table>\n",
       "<p>5 rows × 53 columns</p>\n",
       "</div>"
      ],
      "text/plain": [
       "   Unnamed: 0   idno  agea  rlgdgr  polintr  sclmeet  happy cntry  netustm  \\\n",
       "0           0  50014    65       5        1        4      8    AT      180   \n",
       "1           1  50030    21       0        2        7      9    AT      570   \n",
       "2           2  50057    53       8        2        4      9    AT       30   \n",
       "3           3  50106    78       6        3        6      7    AT     6666   \n",
       "4           4  50145    64       1        2        5      9    AT      120   \n",
       "\n",
       "   nwspol  ...  actrolga  cptppola  trstprl  trstlgl  trstplc  trstplt  vote  \\\n",
       "0      90  ...         5         5        6        9       10        5     1   \n",
       "1      90  ...         2         2        6        6        4        1     1   \n",
       "2      30  ...         4         3        7        5        8        4     1   \n",
       "3      15  ...         2         3        5        6        9        3     2   \n",
       "4      60  ...         1         3        6        8        8        5     1   \n",
       "\n",
       "   stfeco  stfdem  stfedu  \n",
       "0       6       6       8  \n",
       "1       2       7      10  \n",
       "2       6       6       5  \n",
       "3       4       6       5  \n",
       "4       6       8       9  \n",
       "\n",
       "[5 rows x 53 columns]"
      ]
     },
     "execution_count": 19,
     "metadata": {},
     "output_type": "execute_result"
    }
   ],
   "source": [
    "file = 'final_dataset.csv'\n",
    "data = pd.read_csv(file)\n",
    "data.head()"
   ]
  },
  {
   "cell_type": "code",
   "execution_count": 35,
   "metadata": {
    "colab": {
     "base_uri": "https://localhost:8080/"
    },
    "executionInfo": {
     "elapsed": 175,
     "status": "ok",
     "timestamp": 1738914487619,
     "user": {
      "displayName": "Полина Трубкина",
      "userId": "04975523817336870465"
     },
     "user_tz": -180
    },
    "id": "X2UvVuHrYRdu",
    "outputId": "4862b7f0-28aa-42c9-a505-19496eef7784"
   },
   "outputs": [
    {
     "data": {
      "text/plain": [
       "(40156, 53)"
      ]
     },
     "execution_count": 35,
     "metadata": {},
     "output_type": "execute_result"
    }
   ],
   "source": [
    "data.shape"
   ]
  },
  {
   "cell_type": "code",
   "execution_count": 21,
   "metadata": {},
   "outputs": [
    {
     "name": "stdout",
     "output_type": "stream",
     "text": [
      "Количество пропущенных значений в 'health': 0\n",
      "Количество пропущенных значений в 'sclmeet': 0\n",
      "Количество пропущенных значений в 'atchctr': 0\n",
      "Количество пропущенных значений в 'aesfdrk': 0\n",
      "Количество пропущенных значений в 'dscrgrp': 0\n",
      "Количество пропущенных значений в 'pray': 0\n",
      "Количество пропущенных значений в 'hhmmb': 0\n",
      "Количество пропущенных значений в 'gndr': 0\n",
      "Количество пропущенных значений в 'yrbrn': 0\n",
      "Количество пропущенных значений в 'impdiffa': 0\n",
      "Количество пропущенных значений в 'impfuna': 0\n"
     ]
    }
   ],
   "source": [
    "print(\"Количество пропущенных значений в 'health':\", data['health'].isnull().sum())\n",
    "print(\"Количество пропущенных значений в 'sclmeet':\", data['sclmeet'].isnull().sum())\n",
    "print(\"Количество пропущенных значений в 'atchctr':\", data['health'].isnull().sum())\n",
    "print(\"Количество пропущенных значений в 'aesfdrk':\", data['health'].isnull().sum())\n",
    "print(\"Количество пропущенных значений в 'dscrgrp':\", data['health'].isnull().sum())\n",
    "print(\"Количество пропущенных значений в 'pray':\", data['health'].isnull().sum())\n",
    "print(\"Количество пропущенных значений в 'hhmmb':\", data['health'].isnull().sum())\n",
    "print(\"Количество пропущенных значений в 'gndr':\", data['health'].isnull().sum())\n",
    "print(\"Количество пропущенных значений в 'yrbrn':\", data['health'].isnull().sum())\n",
    "print(\"Количество пропущенных значений в 'impdiffa':\", data['health'].isnull().sum())\n",
    "print(\"Количество пропущенных значений в 'impfuna':\", data['health'].isnull().sum())"
   ]
  },
  {
   "cell_type": "code",
   "execution_count": 22,
   "metadata": {},
   "outputs": [
    {
     "name": "stdout",
     "output_type": "stream",
     "text": [
      "[health]Количество null'ов: 53\n"
     ]
    }
   ],
   "source": [
    "# Subjective general health\n",
    "bad_answers = data['health'].isin([7, 8, 9])\n",
    "data.loc[bad_answers, 'health'] = np.nan\n",
    "print(\"[health]Количество null'ов:\", data['health'].isnull().sum())"
   ]
  },
  {
   "cell_type": "code",
   "execution_count": 24,
   "metadata": {},
   "outputs": [
    {
     "name": "stdout",
     "output_type": "stream",
     "text": [
      "[sclmeet]Количество null'ов: 75\n"
     ]
    }
   ],
   "source": [
    "# How often socially meet with friends, relatives or colleagues\n",
    "bad_answers = data['sclmeet'].isin([77, 88, 99])\n",
    "data.loc[bad_answers, 'sclmeet'] = np.nan\n",
    "print(\"[sclmeet]Количество null'ов:\", data['sclmeet'].isnull().sum())"
   ]
  },
  {
   "cell_type": "code",
   "execution_count": 25,
   "metadata": {},
   "outputs": [
    {
     "name": "stdout",
     "output_type": "stream",
     "text": [
      "[atchctr]Количество null'ов: 165\n"
     ]
    }
   ],
   "source": [
    "# How emotionally attached to [country]\n",
    "bad_answers = data['atchctr'].isin([77, 88, 99])\n",
    "data.loc[bad_answers, 'atchctr'] = np.nan\n",
    "print(\"[atchctr]Количество null'ов:\", data['atchctr'].isnull().sum())"
   ]
  },
  {
   "cell_type": "code",
   "execution_count": 26,
   "metadata": {},
   "outputs": [
    {
     "name": "stdout",
     "output_type": "stream",
     "text": [
      "[aesfdrk]Количество null'ов: 295\n"
     ]
    }
   ],
   "source": [
    "# Feeling of safety of walking alone in local area after dark\n",
    "bad_answers = data['aesfdrk'].isin([7, 8, 9])\n",
    "data.loc[bad_answers, 'aesfdrk'] = np.nan\n",
    "print(\"[aesfdrk]Количество null'ов:\", data['aesfdrk'].isnull().sum())"
   ]
  },
  {
   "cell_type": "code",
   "execution_count": 27,
   "metadata": {},
   "outputs": [
    {
     "name": "stdout",
     "output_type": "stream",
     "text": [
      "[dscrgrp]Количество null'ов: 270\n"
     ]
    }
   ],
   "source": [
    "# Member of a group discriminated against in this country\n",
    "data['dscrgrp'] = data['dscrgrp'].replace({2: 0, 7: np.nan, 8: np.nan, 9: np.nan})\n",
    "print(\"[dscrgrp]Количество null'ов:\", data['dscrgrp'].isnull().sum())"
   ]
  },
  {
   "cell_type": "code",
   "execution_count": 28,
   "metadata": {},
   "outputs": [
    {
     "name": "stdout",
     "output_type": "stream",
     "text": [
      "[pray]Количество null'ов: 748\n"
     ]
    }
   ],
   "source": [
    "# How often pray apart from at religious services\n",
    "bad_answers = data['pray'].isin([77, 88, 99])\n",
    "data.loc[bad_answers, 'pray'] = np.nan\n",
    "print(\"[pray]Количество null'ов:\", data['pray'].isnull().sum())"
   ]
  },
  {
   "cell_type": "code",
   "execution_count": 29,
   "metadata": {},
   "outputs": [
    {
     "name": "stdout",
     "output_type": "stream",
     "text": [
      "[hhmmb]Количество null'ов: 219\n"
     ]
    }
   ],
   "source": [
    "# Number of people living regularly as member of household\n",
    "bad_answers = data['hhmmb'].isin([77, 88, 99])\n",
    "data.loc[bad_answers, 'hhmmb'] = np.nan\n",
    "print(\"[hhmmb]Количество null'ов:\", data['hhmmb'].isnull().sum())"
   ]
  },
  {
   "cell_type": "code",
   "execution_count": 30,
   "metadata": {},
   "outputs": [
    {
     "name": "stdout",
     "output_type": "stream",
     "text": [
      "[gndr]Количество null'ов: 0\n"
     ]
    }
   ],
   "source": [
    "# Gender\n",
    "data['gndr'] = data['gndr'].replace({2: 0, 9: np.nan})\n",
    "print(\"[gndr]Количество null'ов:\", data['gndr'].isnull().sum())"
   ]
  },
  {
   "cell_type": "code",
   "execution_count": 31,
   "metadata": {},
   "outputs": [
    {
     "name": "stdout",
     "output_type": "stream",
     "text": [
      "[yrbrn]Количество null'ов: 270\n"
     ]
    }
   ],
   "source": [
    "# And in what year were you born?\n",
    "bad_answers = data['yrbrn'].isin([7777, 8888, 9999])\n",
    "data.loc[bad_answers, 'yrbrn'] = np.nan\n",
    "print(\"[yrbrn]Количество null'ов:\", data['yrbrn'].isnull().sum())"
   ]
  },
  {
   "cell_type": "code",
   "execution_count": 33,
   "metadata": {},
   "outputs": [
    {
     "name": "stdout",
     "output_type": "stream",
     "text": [
      "[impdiffa]Количество null'ов: 702\n"
     ]
    }
   ],
   "source": [
    "# Important to try new and different things in life\n",
    "bad_answers = data['impdiffa'].isin([66, 77, 88, 99])\n",
    "data.loc[bad_answers, 'impdiffa'] = np.nan\n",
    "print(\"[impdiffa]Количество null'ов:\", data['impdiffa'].isnull().sum())"
   ]
  },
  {
   "cell_type": "code",
   "execution_count": 34,
   "metadata": {},
   "outputs": [
    {
     "name": "stdout",
     "output_type": "stream",
     "text": [
      "[impfuna]Количество null'ов: 707\n"
     ]
    }
   ],
   "source": [
    "# Important to seek fun and things that give pleasure\n",
    "bad_answers = data['impfuna'].isin([66, 77, 88, 99])\n",
    "data.loc[bad_answers, 'impfuna'] = np.nan\n",
    "print(\"[impfuna]Количество null'ов:\", data['impfuna'].isnull().sum())"
   ]
  }
 ],
 "metadata": {
  "colab": {
   "provenance": []
  },
  "kernelspec": {
   "display_name": "base",
   "language": "python",
   "name": "python3"
  },
  "language_info": {
   "codemirror_mode": {
    "name": "ipython",
    "version": 3
   },
   "file_extension": ".py",
   "mimetype": "text/x-python",
   "name": "python",
   "nbconvert_exporter": "python",
   "pygments_lexer": "ipython3",
   "version": "3.9.13"
  }
 },
 "nbformat": 4,
 "nbformat_minor": 0
}
